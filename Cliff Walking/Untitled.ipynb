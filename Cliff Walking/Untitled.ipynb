{
 "cells": [
  {
   "cell_type": "code",
   "execution_count": 1,
   "metadata": {
    "ExecuteTime": {
     "end_time": "2018-10-30T23:20:38.739127Z",
     "start_time": "2018-10-30T23:20:36.369518Z"
    },
    "collapsed": true
   },
   "outputs": [],
   "source": [
    "import pandas as pd\n",
    "import numpy as np\n",
    "import matplotlib.pyplot as plt\n",
    "import sklearn as sk\n",
    "import seaborn as sns"
   ]
  },
  {
   "cell_type": "code",
   "execution_count": 166,
   "metadata": {
    "ExecuteTime": {
     "end_time": "2018-10-31T00:17:46.691532Z",
     "start_time": "2018-10-31T00:17:46.662027Z"
    }
   },
   "outputs": [],
   "source": [
    "REWARD_NONTERMINAL = -1\n",
    "REWARD_TERMINAL = 10\n",
    "REWARD_CLIFF = -100\n",
    "\n",
    "class Environment:\n",
    "\n",
    "    def __init__(self, nr_columns, nr_rows, nr_actions=4, init_qa_values=0):\n",
    "        self.world = np.zeros((nr_rows + 1, nr_columns))\n",
    "        self.nr_columns = nr_columns\n",
    "        self.nr_rows = nr_rows\n",
    "        self.nr_actions = nr_actions\n",
    "        \n",
    "    def set_world_rewards(self):\n",
    "        pass\n",
    "\n",
    "class CliffEnvironment(Environment):\n",
    "    \n",
    "    def __init__(self, nr_columns, nr_rows, nr_actions=4, init_qa_values=0):\n",
    "        super().__init__(nr_columns, nr_rows)\n",
    "        self.set_world_rewards()\n",
    "        \n",
    "    def set_world_rewards(self):\n",
    "        self.world[:, :] = REWARD_NONTERMINAL\n",
    "        self.world[self.nr_rows:, 1:self.nr_columns - 1] = REWARD_CLIFF\n",
    "        self.world[self.nr_rows, self.nr_columns - 1] = REWARD_TERMINAL"
   ]
  },
  {
   "cell_type": "code",
   "execution_count": 3,
   "metadata": {
    "ExecuteTime": {
     "end_time": "2018-10-31T12:58:37.992136Z",
     "start_time": "2018-10-31T12:58:37.981763Z"
    }
   },
   "outputs": [],
   "source": [
    "class Agent:\n",
    "    def __init__(self, env, init_position=(0,0)):\n",
    "        self.curr_state = init_position\n",
    "        self.env = env\n",
    "        self.q_table = np.zeros((env.nr_columns, env.nr_rows + 1, env.nr_actions))\n",
    "        \n",
    "    def run(self):\n",
    "        pass\n",
    "    \n",
    "    def get_next_action(self):\n",
    "        # get_next_action: get the next step according to epsilon-greedy algorithm (next-step)\n",
    "        actions = self.q_table[self.curr_state]\n",
    "        pass\n",
    "    \n",
    "    def get_next_state(self, action):\n",
    "            # get_next_state: get next state according to the environment, which also gets the reward\n",
    "        \n",
    "        pass\n",
    "    \n",
    "    def update_q_table(self, next_state, next_best_action):\n",
    "            # update_q_table: add to current q_entry the reward, and the best action next action from the next state\n",
    "        \n",
    "        pass\n",
    "        \n",
    "class QLearner(Agent):\n",
    "    def __init__(self, env, nr_episodes, init_position=(0,0)):\n",
    "        super().__init__(env, init_position)\n",
    "        self.nr_episodes = nr_episodes\n",
    "        \n",
    "    def run(self):\n",
    "        for i in range(self.nr_episodes):\n",
    "            terminated = False\n",
    "            \n",
    "            while not Terminate:\n",
    "#             While in episode:\n",
    "                next_action = self.get_next_action()\n",
    "                next_state = self.get_next_state()\n",
    "                next_best_action = self.get_best_action(next_state)\n",
    "                self.update_q_table(next_state, next_best_action)\n",
    "\n",
    "    def get_best_action(self, state):\n",
    "        return np.argmax(self.env.world[state])\n",
    "        \n",
    "    \n",
    "class SarsaLearner(Agent):\n",
    "    def __init__(self, env, nr_episodes, init_position=(0,0)):\n",
    "        super().__init__(env, init_position)\n",
    "        self.nr_episodes = nr_episodes\n",
    "        \n",
    "    def run(self):\n",
    "        for i in range(self.nr_episodes):\n",
    "            pass\n",
    "            "
   ]
  },
  {
   "cell_type": "code",
   "execution_count": 164,
   "metadata": {
    "ExecuteTime": {
     "end_time": "2018-10-31T00:13:53.003331Z",
     "start_time": "2018-10-31T00:13:52.993244Z"
    }
   },
   "outputs": [],
   "source": [
    "###\n",
    "# Main Run - Initialization\n",
    "###\n",
    "NR_COLUMNS = 5\n",
    "\n",
    "# Excluding the cliff\n",
    "NR_ROWS = 3\n",
    "\n",
    "cliffWorld = CliffEnvironment(NR_COLUMNS, NR_ROWS)\n",
    "agent = QLearner(cliffWorld, (0, NR_ROWS))"
   ]
  },
  {
   "cell_type": "code",
   "execution_count": 165,
   "metadata": {
    "ExecuteTime": {
     "end_time": "2018-10-31T00:13:54.863860Z",
     "start_time": "2018-10-31T00:13:54.853903Z"
    }
   },
   "outputs": [
    {
     "name": "stdout",
     "output_type": "stream",
     "text": [
      "[[[0. 0. 0. 0.]\n",
      "  [0. 0. 0. 0.]\n",
      "  [0. 0. 0. 0.]\n",
      "  [0. 0. 0. 0.]]\n",
      "\n",
      " [[0. 0. 0. 0.]\n",
      "  [0. 0. 0. 0.]\n",
      "  [0. 0. 0. 0.]\n",
      "  [0. 0. 0. 0.]]\n",
      "\n",
      " [[0. 0. 0. 0.]\n",
      "  [0. 0. 0. 0.]\n",
      "  [0. 0. 0. 0.]\n",
      "  [0. 0. 0. 0.]]\n",
      "\n",
      " [[0. 0. 0. 0.]\n",
      "  [0. 0. 0. 0.]\n",
      "  [0. 0. 0. 0.]\n",
      "  [0. 0. 0. 0.]]\n",
      "\n",
      " [[0. 0. 0. 0.]\n",
      "  [0. 0. 0. 0.]\n",
      "  [0. 0. 0. 0.]\n",
      "  [0. 0. 0. 0.]]]\n"
     ]
    }
   ],
   "source": [
    "print(agent.q_table)"
   ]
  }
 ],
 "metadata": {
  "kernelspec": {
   "display_name": "Python [default]",
   "language": "python",
   "name": "python3"
  },
  "language_info": {
   "codemirror_mode": {
    "name": "ipython",
    "version": 3
   },
   "file_extension": ".py",
   "mimetype": "text/x-python",
   "name": "python",
   "nbconvert_exporter": "python",
   "pygments_lexer": "ipython3",
   "version": "3.6.2"
  },
  "varInspector": {
   "cols": {
    "lenName": 16,
    "lenType": 16,
    "lenVar": 40
   },
   "kernels_config": {
    "python": {
     "delete_cmd_postfix": "",
     "delete_cmd_prefix": "del ",
     "library": "var_list.py",
     "varRefreshCmd": "print(var_dic_list())"
    },
    "r": {
     "delete_cmd_postfix": ") ",
     "delete_cmd_prefix": "rm(",
     "library": "var_list.r",
     "varRefreshCmd": "cat(var_dic_list()) "
    }
   },
   "types_to_exclude": [
    "module",
    "function",
    "builtin_function_or_method",
    "instance",
    "_Feature"
   ],
   "window_display": false
  }
 },
 "nbformat": 4,
 "nbformat_minor": 2
}
