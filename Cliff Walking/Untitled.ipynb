{
 "cells": [
  {
   "cell_type": "code",
   "execution_count": 1,
   "metadata": {
    "ExecuteTime": {
     "end_time": "2018-10-30T23:20:38.739127Z",
     "start_time": "2018-10-30T23:20:36.369518Z"
    },
    "collapsed": true
   },
   "outputs": [],
   "source": [
    "import pandas as pd\n",
    "import numpy as np\n",
    "import matplotlib.pyplot as plt\n",
    "import sklearn as sk\n",
    "import seaborn as sns"
   ]
  },
  {
   "cell_type": "code",
   "execution_count": 4,
   "metadata": {
    "ExecuteTime": {
     "end_time": "2018-10-31T13:49:36.144044Z",
     "start_time": "2018-10-31T13:49:36.110107Z"
    }
   },
   "outputs": [],
   "source": [
    "REWARD_NONTERMINAL = -1\n",
    "REWARD_TERMINAL = 10\n",
    "REWARD_CLIFF = -100\n",
    "ACTION_DIRECTIONS = [(0, 1), (1, 0), (0, -1), (-1, 0)]\n",
    "\n",
    "class Environment:\n",
    "\n",
    "    def __init__(self, nr_columns, nr_rows, nr_actions=4, init_qa_values=0):\n",
    "        self.world = np.zeros((nr_rows, nr_columns))\n",
    "        self.nr_columns = nr_columns\n",
    "        self.nr_rows = nr_rows\n",
    "        self.nr_actions = nr_actions\n",
    "        \n",
    "    def set_world_rewards(self):\n",
    "        pass\n",
    "    \n",
    "    def is_out_of_bounds(self, state):\n",
    "        if state[0] < 0 or state[0] > self.nr_rows - 1:\n",
    "            return True\n",
    "        \n",
    "        if state[1] < 0 or state[1] > self.nr_columns -1:\n",
    "            return True\n",
    "        \n",
    "        return False\n",
    "    \n",
    "    def next_state(self, state, action):\n",
    "        pass\n",
    "    \n",
    "    def check_termination(self, state):\n",
    "        pass\n",
    "\n",
    "class CliffEnvironment(Environment):\n",
    "    \n",
    "    def __init__(self, nr_columns, nr_rows, nr_actions=4, init_qa_values=0):\n",
    "        super().__init__(nr_columns, nr_rows)\n",
    "        self.set_world_rewards()\n",
    "        \n",
    "    def set_world_rewards(self):\n",
    "        self.world[:, :] = REWARD_NONTERMINAL\n",
    "        self.world[self.nr_rows - 1:, 1:self.nr_columns - 1] = REWARD_CLIFF\n",
    "        self.world[self.nr_rows - 1, self.nr_columns - 1] = REWARD_TERMINAL\n",
    "        \n",
    "    def next_state(self, state, action_index):\n",
    "        action = ACTION_DIRECTIONS[action_index]\n",
    "        next_state = state + action\n",
    "        \n",
    "        if self.is_out_of_bounds(next_state):\n",
    "            next_state = state\n",
    "        \n",
    "        return next_state\n",
    "    \n",
    "    def check_termination(self, state):\n",
    "        #TODO: Check if in cliff, or if in goal state, if so, return {True}\n",
    "        return False"
   ]
  },
  {
   "cell_type": "code",
   "execution_count": 6,
   "metadata": {
    "ExecuteTime": {
     "end_time": "2018-10-31T13:54:28.789563Z",
     "start_time": "2018-10-31T13:54:28.769421Z"
    }
   },
   "outputs": [
    {
     "ename": "SyntaxError",
     "evalue": "invalid syntax (<ipython-input-6-5a7f4f10a3c4>, line 29)",
     "output_type": "error",
     "traceback": [
      "\u001b[0;36m  File \u001b[0;32m\"<ipython-input-6-5a7f4f10a3c4>\"\u001b[0;36m, line \u001b[0;32m29\u001b[0m\n\u001b[0;31m    self.q_table[self.curr_state][action] = curr_q +\u001b[0m\n\u001b[0m                                                    ^\u001b[0m\n\u001b[0;31mSyntaxError\u001b[0m\u001b[0;31m:\u001b[0m invalid syntax\n"
     ]
    }
   ],
   "source": [
    "ALPHA = 0.1\n",
    "GAMMA = 1\n",
    "class Agent:\n",
    "    def __init__(self, env, epsilon=0.2, init_position=(0,0)):\n",
    "        self.curr_state = init_position\n",
    "        self.env = env\n",
    "        self.q_table = np.zeros((env.nr_columns, env.nr_rows + 1, env.nr_actions))\n",
    "        \n",
    "    def run(self):\n",
    "        pass\n",
    "    \n",
    "    def get_next_action(self):\n",
    "        \"\"\"Returns the next index of the action according to the epsilon-greedy choice\"\"\"\n",
    "        actions = self.q_table[self.curr_state]\n",
    "        \n",
    "        # If we choose randomly\n",
    "        if np.random.random() < self.epsilon:\n",
    "            return np.random.choice(4)\n",
    "        \n",
    "        return np.argmax(self.env.world[state])\n",
    "    \n",
    "    def get_next_state(self, action):\n",
    "        \"\"\"Return next theoretical state according to the environment.\"\"\"\n",
    "        return self.env.next_state(self.curr_state, action)\n",
    "    \n",
    "    def update_q_table(self, action, next_state, next_best_action):\n",
    "        pass\n",
    "    \n",
    "    def get_reward_for_state(self, state):\n",
    "        return self.env.world[state]\n",
    "    \n",
    "    def terminated(self):\n",
    "        return self.env.check_termination(self.curr_state)\n",
    "    \n",
    "    def update_state(self, next_state):\n",
    "        self.curr_state = next_state\n",
    "        \n",
    "class QLearner(Agent):\n",
    "    def __init__(self, env, nr_episodes, epsilon=0.2 , init_position=(0,0)):\n",
    "        super().__init__(env, epsilon, init_position)\n",
    "        self.nr_episodes = nr_episodes\n",
    "        \n",
    "    def run(self):\n",
    "        for i in range(self.nr_episodes):\n",
    "            while not self.terminated():\n",
    "                action_index = self.get_next_action()\n",
    "                next_state = self.get_next_state(action_index)\n",
    "                next_state_best_action_index = np.argmax(self.q_table[next_state])\n",
    "\n",
    "                self.update_q_table(next_state, next_state_best_action_index)\n",
    "                self.update_state(next_state)\n",
    "                \n",
    "    def update_q_table(self, action, next_state, next_best_action):\n",
    "        curr_q = self.q_table[self.curr_state][action]\n",
    "        update = (self.get_reward_for_state(next_state) + GAMMA * self.q_table[next_state][next_best_action] - curr_q)\n",
    "        self.q_table[self.curr_state][action] = curr_q + ALPHA * update\n",
    "        \n",
    "    \n",
    "class SarsaLearner(Agent):\n",
    "    def __init__(self, env, nr_episodes, epsilon=0.2, init_position=(0,0)):\n",
    "        super().__init__(env, init_position)\n",
    "        self.nr_episodes = nr_episodes\n",
    "        \n",
    "    def run(self):\n",
    "        for i in range(self.nr_episodes):\n",
    "            pass\n",
    "            "
   ]
  },
  {
   "cell_type": "code",
   "execution_count": 164,
   "metadata": {
    "ExecuteTime": {
     "end_time": "2018-10-31T00:13:53.003331Z",
     "start_time": "2018-10-31T00:13:52.993244Z"
    }
   },
   "outputs": [],
   "source": [
    "###\n",
    "# Main Run - Initialization\n",
    "###\n",
    "NR_COLUMNS = 5\n",
    "\n",
    "# Including the cliff\n",
    "NR_ROWS = 4\n",
    "\n",
    "cliffWorld = CliffEnvironment(NR_COLUMNS, NR_ROWS)\n",
    "agent = QLearner(cliffWorld, (0, NR_ROWS))"
   ]
  },
  {
   "cell_type": "code",
   "execution_count": 165,
   "metadata": {
    "ExecuteTime": {
     "end_time": "2018-10-31T00:13:54.863860Z",
     "start_time": "2018-10-31T00:13:54.853903Z"
    }
   },
   "outputs": [
    {
     "name": "stdout",
     "output_type": "stream",
     "text": [
      "[[[0. 0. 0. 0.]\n",
      "  [0. 0. 0. 0.]\n",
      "  [0. 0. 0. 0.]\n",
      "  [0. 0. 0. 0.]]\n",
      "\n",
      " [[0. 0. 0. 0.]\n",
      "  [0. 0. 0. 0.]\n",
      "  [0. 0. 0. 0.]\n",
      "  [0. 0. 0. 0.]]\n",
      "\n",
      " [[0. 0. 0. 0.]\n",
      "  [0. 0. 0. 0.]\n",
      "  [0. 0. 0. 0.]\n",
      "  [0. 0. 0. 0.]]\n",
      "\n",
      " [[0. 0. 0. 0.]\n",
      "  [0. 0. 0. 0.]\n",
      "  [0. 0. 0. 0.]\n",
      "  [0. 0. 0. 0.]]\n",
      "\n",
      " [[0. 0. 0. 0.]\n",
      "  [0. 0. 0. 0.]\n",
      "  [0. 0. 0. 0.]\n",
      "  [0. 0. 0. 0.]]]\n"
     ]
    }
   ],
   "source": [
    "print(agent.q_table)"
   ]
  }
 ],
 "metadata": {
  "kernelspec": {
   "display_name": "Python [default]",
   "language": "python",
   "name": "python3"
  },
  "language_info": {
   "codemirror_mode": {
    "name": "ipython",
    "version": 3
   },
   "file_extension": ".py",
   "mimetype": "text/x-python",
   "name": "python",
   "nbconvert_exporter": "python",
   "pygments_lexer": "ipython3",
   "version": "3.6.2"
  },
  "varInspector": {
   "cols": {
    "lenName": 16,
    "lenType": 16,
    "lenVar": 40
   },
   "kernels_config": {
    "python": {
     "delete_cmd_postfix": "",
     "delete_cmd_prefix": "del ",
     "library": "var_list.py",
     "varRefreshCmd": "print(var_dic_list())"
    },
    "r": {
     "delete_cmd_postfix": ") ",
     "delete_cmd_prefix": "rm(",
     "library": "var_list.r",
     "varRefreshCmd": "cat(var_dic_list()) "
    }
   },
   "types_to_exclude": [
    "module",
    "function",
    "builtin_function_or_method",
    "instance",
    "_Feature"
   ],
   "window_display": false
  }
 },
 "nbformat": 4,
 "nbformat_minor": 2
}
